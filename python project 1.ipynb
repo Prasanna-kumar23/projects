{
 "cells": [
  {
   "cell_type": "code",
   "execution_count": null,
   "id": "3d7dbee0",
   "metadata": {},
   "outputs": [],
   "source": [
    "#THREE CUP MONTY a simple carnival game (can you find the ball?)\n",
    "mylist=['empty','red ball','empty']                              \n",
    "from random import shuffle \n",
    "def shuffle_list(mylist):                                  #Create a shuffle function.\n",
    "    shuffle (mylist)\n",
    "    return mylist\n",
    "def player_guess():                                        #create player guess function\n",
    "    guess=''\n",
    "    while guess not in [0,1,2]:                            #repeat untill the player choses between these numbers.\n",
    "        guess = int(input(\"pick a cup: 0,1 or 2 \\n\"))      #input always gives output in string version so using int.\n",
    "    return (guess)                                     \n",
    "def check_guess(mylist,guess):                             #create player check guess                            \n",
    "    if mylist[guess]=='red ball':\n",
    "        print('correct..!')\n",
    "        print(\"The red ball was in cup:\", mylist.index('red ball'))\n",
    "        print(mylist)\n",
    "    else:\n",
    "        print('wrong guess !')\n",
    "        print(\"The red ball was in cup:\", mylist.index('red ball'))\n",
    "        print(mylist)\n",
    "mylist=['empty','red ball','empty']                       #intial list\n",
    "mixed_list=shuffle_list(mylist)                           #shuffled list\n",
    "guess=player_guess()                                      #player guess\n",
    "check_guess(mixed_list,guess)                             #player check"
   ]
  }
 ],
 "metadata": {
  "kernelspec": {
   "display_name": "Python 3 (ipykernel)",
   "language": "python",
   "name": "python3"
  },
  "language_info": {
   "codemirror_mode": {
    "name": "ipython",
    "version": 3
   },
   "file_extension": ".py",
   "mimetype": "text/x-python",
   "name": "python",
   "nbconvert_exporter": "python",
   "pygments_lexer": "ipython3",
   "version": "3.10.9"
  }
 },
 "nbformat": 4,
 "nbformat_minor": 5
}
